{
 "cells": [
  {
   "cell_type": "code",
   "execution_count": 92,
   "id": "arranged-deadline",
   "metadata": {},
   "outputs": [
    {
     "data": {
      "image/png": "[encoded data removed]",
      "text/plain": [
       "<Figure size 432x288 with 1 Axes>"
      ]
     },
     "metadata": {
      "needs_background": "light"
     },
     "output_type": "display_data"
    },
    {
     "name": "stdout",
     "output_type": "stream",
     "text": [
      "x_min = [[ 0.28403442]\n",
      " [ 0.2979158 ]\n",
      " [ 0.01357858]\n",
      " [ 0.32250073]\n",
      " [-0.05264246]\n",
      " [-0.27053968]]\n",
      "value = 0.5423967748228894\n"
     ]
    }
   ],
   "source": [
    "import numpy as np\n",
    "import matplotlib.pyplot as plt\n",
    "\n",
    "\n",
    "class MyFunction(object):\n",
    "    def __init__(self, A, b):\n",
    "        self.A = A\n",
    "        self.b = b\n",
    "    \n",
    "    def f_(self, x):\n",
    "        f_x = np.exp(-x.T @ self.A @ x) + np.exp(-x.T @ self.b) + x.T @ x\n",
    "        return f_x\n",
    "    \n",
    "    def g_(self, x):\n",
    "        g_x = -2 * np.exp(-x.T @ self.A @ x) * self.A @ x - np.exp(-x.T @ self.b) * self.b + 2 * x\n",
    "        return g_x\n",
    "        \n",
    "    def G_(self, x):\n",
    "        G_x = -2 * np.exp(-x.T @ self.A @ x) * (self.A - 2 * (self.A @ x) @ (self.A @ x).T) \\\n",
    "              - np.exp(-x.T @ self.b) * self.b @ self.b.T + 2\n",
    "        return G_x\n",
    "        \n",
    "\n",
    "def Lev_Mar(fun, x):\n",
    "    Max_Iter = 50\n",
    "    Epsilon = 1e-5\n",
    "    \n",
    "    mu = 0.01\n",
    "    y = []\n",
    "    \n",
    "    for i in range(Max_Iter):\n",
    "        f, g, G = fun.f_(x), fun.g_(x), fun.G_(x)\n",
    "        y.append(f[0][0])\n",
    "        plt.scatter(i, y[-1], color='red', s=10)\n",
    "        \n",
    "        if np.sum(np.abs(g)) < Epsilon:\n",
    "            break\n",
    "        \n",
    "        eig_val = np.linalg.eigvals(G + mu * np.eye(x.size))\n",
    "        while (not np.all(eig_val > 0)):\n",
    "            mu *= 4\n",
    "            eig_val = np.linalg.eigvals(G + mu * np.eye(x.size))\n",
    "            \n",
    "        s = -np.linalg.inv(G + mu * np.eye(x.size)) @ g\n",
    "        delta_f = fun.f_(x + s) - f\n",
    "        delta_q = g.T @ s + 0.5 * s.T @ G @ s\n",
    "        \n",
    "        r = delta_f / delta_q\n",
    "        if r < 0.25:\n",
    "            mu *= 4\n",
    "        elif r > 0.75:\n",
    "            mu /= 2\n",
    "        if r > 0:\n",
    "            x += s\n",
    "    \n",
    "    plt.plot(y)\n",
    "    plt.title('Levenberg-Marquardt Method')\n",
    "    plt.xlabel('Iteration')\n",
    "    plt.ylabel('value')\n",
    "    plt.text(15, 1.8, '$f(x)=e^{-x^{T}Ax}+e^{-x^{T}b}+x^{T}x$', fontsize=15)\n",
    "    plt.show()\n",
    "    return x, y[-1]\n",
    "        \n",
    "        \n",
    "np.random.seed(12021092)\n",
    "d = 6\n",
    "A = np.random.randint(-5, 5, (d, d))\n",
    "b = np.random.randint(0, 10, (d, 1))\n",
    "my_fun = MyFunction(A, b)\n",
    "x0 = np.zeros((d, 1))\n",
    "x, value = Lev_Mar(my_fun, x0)\n",
    "print(\"x_min =\", x)\n",
    "print(\"value =\", value)\n"
   ]
  }
 ],
 "metadata": {
  "kernelspec": {
   "display_name": "Python 3",
   "language": "python",
   "name": "python3"
  },
  "language_info": {
   "codemirror_mode": {
    "name": "ipython",
    "version": 3
   },
   "file_extension": ".py",
   "mimetype": "text/x-python",
   "name": "python",
   "nbconvert_exporter": "python",
   "pygments_lexer": "ipython3",
   "version": "3.7.9"
  }
 },
 "nbformat": 4,
 "nbformat_minor": 5
}
